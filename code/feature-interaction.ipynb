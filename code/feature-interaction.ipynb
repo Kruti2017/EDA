{
 "cells": [
  {
   "cell_type": "code",
   "execution_count": 1,
   "metadata": {},
   "outputs": [],
   "source": [
    "import pandas as pd\n",
    "\n",
    "from sklearn.preprocessing import MinMaxScaler, OneHotEncoder\n",
    "from sklearn.model_selection import train_test_split, GridSearchCV\n",
    "from sklearn.svm import SVC\n",
    "from sklearn.linear_model import LogisticRegression\n",
    "from sklearn.metrics import roc_auc_score"
   ]
  },
  {
   "cell_type": "markdown",
   "metadata": {},
   "source": [
    "# A. Data\n",
    "\n",
    "Read data that were imputed for missing values and also were discovered as the top features from the Random Forest model:\n",
    "\n",
    "* DL0 -  Who is the main income earner in your household? \n",
    "* DG6 - How are you related to the household head? \n",
    "* DL1 - In the past 12 months, were you mainly...? (Employed, unemployed, student, etc.)\n",
    "* MT1A - Who decides on who should have a phone in your household?\n",
    "* FL4 - What or who do you depend on the most for financial advice?\n",
    "* DG3 - What is your marital status?\n",
    "* GN5 - Who decides what kind of financial services you can personally use? \n",
    "* GN3 - Who controls assets (i.e., savings, land, and livestock) in your household? \n",
    "* GN4 - Who decides what kind of financial services your household uses? \n",
    "* MT2 - Do you personally own a mobile phone? \n",
    "* MT10 - Do you personally have an active/working SIM card? \n",
    "* DG1 - What year were you born?\n",
    "* GN2 - Who in your household decides what purchases are made to meet daily household needs like food, clothing, and cleaning supplies? \n",
    "* DG4 - What is your highest level of education? \n",
    "* DG8a - How many adults do you have in the household? "
   ]
  },
  {
   "cell_type": "code",
   "execution_count": 2,
   "metadata": {
    "scrolled": true
   },
   "outputs": [],
   "source": [
    "topFeat = ['DL0', 'DG6', 'DL1', 'MT1A', 'FL4', 'DG3', 'GN5', 'GN3', 'GN4', 'MT2', 'MT10', 'DG1', 'GN2', 'DG4', 'DG8a']\n",
    "train = pd.read_csv(\"../data/train-cleaned.csv\", low_memory=False, usecols=topFeat+['is_female'])\n",
    "test = pd.read_csv(\"../data/test-cleaned.csv\", low_memory=False, usecols=topFeat)"
   ]
  },
  {
   "cell_type": "code",
   "execution_count": 3,
   "metadata": {},
   "outputs": [
    {
     "data": {
      "text/html": [
       "<div>\n",
       "<style scoped>\n",
       "    .dataframe tbody tr th:only-of-type {\n",
       "        vertical-align: middle;\n",
       "    }\n",
       "\n",
       "    .dataframe tbody tr th {\n",
       "        vertical-align: top;\n",
       "    }\n",
       "\n",
       "    .dataframe thead th {\n",
       "        text-align: right;\n",
       "    }\n",
       "</style>\n",
       "<table border=\"1\" class=\"dataframe\">\n",
       "  <thead>\n",
       "    <tr style=\"text-align: right;\">\n",
       "      <th></th>\n",
       "      <th>DG1</th>\n",
       "      <th>is_female</th>\n",
       "      <th>DG3</th>\n",
       "      <th>DG4</th>\n",
       "      <th>DG6</th>\n",
       "      <th>DG8a</th>\n",
       "      <th>DL0</th>\n",
       "      <th>DL1</th>\n",
       "      <th>MT1A</th>\n",
       "      <th>MT2</th>\n",
       "      <th>MT10</th>\n",
       "      <th>FL4</th>\n",
       "      <th>GN2</th>\n",
       "      <th>GN3</th>\n",
       "      <th>GN4</th>\n",
       "      <th>GN5</th>\n",
       "    </tr>\n",
       "  </thead>\n",
       "  <tbody>\n",
       "    <tr>\n",
       "      <th>0</th>\n",
       "      <td>1975.0</td>\n",
       "      <td>1.0</td>\n",
       "      <td>3.0</td>\n",
       "      <td>5.0</td>\n",
       "      <td>2.0</td>\n",
       "      <td>4.0</td>\n",
       "      <td>1.0</td>\n",
       "      <td>1.0</td>\n",
       "      <td>99.0</td>\n",
       "      <td>2.0</td>\n",
       "      <td>2.0</td>\n",
       "      <td>99.0</td>\n",
       "      <td>99.0</td>\n",
       "      <td>99.0</td>\n",
       "      <td>99.0</td>\n",
       "      <td>99.0</td>\n",
       "    </tr>\n",
       "    <tr>\n",
       "      <th>1</th>\n",
       "      <td>1981.0</td>\n",
       "      <td>1.0</td>\n",
       "      <td>8.0</td>\n",
       "      <td>5.0</td>\n",
       "      <td>2.0</td>\n",
       "      <td>4.0</td>\n",
       "      <td>2.0</td>\n",
       "      <td>7.0</td>\n",
       "      <td>4.0</td>\n",
       "      <td>2.0</td>\n",
       "      <td>2.0</td>\n",
       "      <td>2.0</td>\n",
       "      <td>1.0</td>\n",
       "      <td>2.0</td>\n",
       "      <td>2.0</td>\n",
       "      <td>2.0</td>\n",
       "    </tr>\n",
       "    <tr>\n",
       "      <th>2</th>\n",
       "      <td>1995.0</td>\n",
       "      <td>1.0</td>\n",
       "      <td>3.0</td>\n",
       "      <td>2.0</td>\n",
       "      <td>7.0</td>\n",
       "      <td>4.0</td>\n",
       "      <td>2.0</td>\n",
       "      <td>7.0</td>\n",
       "      <td>2.0</td>\n",
       "      <td>2.0</td>\n",
       "      <td>2.0</td>\n",
       "      <td>2.0</td>\n",
       "      <td>2.0</td>\n",
       "      <td>2.0</td>\n",
       "      <td>2.0</td>\n",
       "      <td>2.0</td>\n",
       "    </tr>\n",
       "    <tr>\n",
       "      <th>3</th>\n",
       "      <td>1980.0</td>\n",
       "      <td>1.0</td>\n",
       "      <td>3.0</td>\n",
       "      <td>5.0</td>\n",
       "      <td>2.0</td>\n",
       "      <td>2.0</td>\n",
       "      <td>2.0</td>\n",
       "      <td>7.0</td>\n",
       "      <td>2.0</td>\n",
       "      <td>1.0</td>\n",
       "      <td>1.0</td>\n",
       "      <td>2.0</td>\n",
       "      <td>2.0</td>\n",
       "      <td>2.0</td>\n",
       "      <td>99.0</td>\n",
       "      <td>99.0</td>\n",
       "    </tr>\n",
       "    <tr>\n",
       "      <th>4</th>\n",
       "      <td>1958.0</td>\n",
       "      <td>1.0</td>\n",
       "      <td>3.0</td>\n",
       "      <td>6.0</td>\n",
       "      <td>2.0</td>\n",
       "      <td>99.0</td>\n",
       "      <td>2.0</td>\n",
       "      <td>7.0</td>\n",
       "      <td>1.0</td>\n",
       "      <td>2.0</td>\n",
       "      <td>2.0</td>\n",
       "      <td>1.0</td>\n",
       "      <td>1.0</td>\n",
       "      <td>1.0</td>\n",
       "      <td>1.0</td>\n",
       "      <td>1.0</td>\n",
       "    </tr>\n",
       "  </tbody>\n",
       "</table>\n",
       "</div>"
      ],
      "text/plain": [
       "      DG1  is_female  DG3  DG4  DG6  DG8a  DL0  DL1  MT1A  MT2  MT10   FL4  \\\n",
       "0  1975.0        1.0  3.0  5.0  2.0   4.0  1.0  1.0  99.0  2.0   2.0  99.0   \n",
       "1  1981.0        1.0  8.0  5.0  2.0   4.0  2.0  7.0   4.0  2.0   2.0   2.0   \n",
       "2  1995.0        1.0  3.0  2.0  7.0   4.0  2.0  7.0   2.0  2.0   2.0   2.0   \n",
       "3  1980.0        1.0  3.0  5.0  2.0   2.0  2.0  7.0   2.0  1.0   1.0   2.0   \n",
       "4  1958.0        1.0  3.0  6.0  2.0  99.0  2.0  7.0   1.0  2.0   2.0   1.0   \n",
       "\n",
       "    GN2   GN3   GN4   GN5  \n",
       "0  99.0  99.0  99.0  99.0  \n",
       "1   1.0   2.0   2.0   2.0  \n",
       "2   2.0   2.0   2.0   2.0  \n",
       "3   2.0   2.0  99.0  99.0  \n",
       "4   1.0   1.0   1.0   1.0  "
      ]
     },
     "execution_count": 3,
     "metadata": {},
     "output_type": "execute_result"
    }
   ],
   "source": [
    "train.head()"
   ]
  },
  {
   "cell_type": "code",
   "execution_count": 4,
   "metadata": {},
   "outputs": [
    {
     "data": {
      "text/html": [
       "<div>\n",
       "<style scoped>\n",
       "    .dataframe tbody tr th:only-of-type {\n",
       "        vertical-align: middle;\n",
       "    }\n",
       "\n",
       "    .dataframe tbody tr th {\n",
       "        vertical-align: top;\n",
       "    }\n",
       "\n",
       "    .dataframe thead th {\n",
       "        text-align: right;\n",
       "    }\n",
       "</style>\n",
       "<table border=\"1\" class=\"dataframe\">\n",
       "  <thead>\n",
       "    <tr style=\"text-align: right;\">\n",
       "      <th></th>\n",
       "      <th>DG1</th>\n",
       "      <th>DG3</th>\n",
       "      <th>DG4</th>\n",
       "      <th>DG6</th>\n",
       "      <th>DG8a</th>\n",
       "      <th>DL0</th>\n",
       "      <th>DL1</th>\n",
       "      <th>MT1A</th>\n",
       "      <th>MT2</th>\n",
       "      <th>MT10</th>\n",
       "      <th>FL4</th>\n",
       "      <th>GN2</th>\n",
       "      <th>GN3</th>\n",
       "      <th>GN4</th>\n",
       "      <th>GN5</th>\n",
       "    </tr>\n",
       "  </thead>\n",
       "  <tbody>\n",
       "    <tr>\n",
       "      <th>0</th>\n",
       "      <td>1979.0</td>\n",
       "      <td>8.0</td>\n",
       "      <td>1.0</td>\n",
       "      <td>2.0</td>\n",
       "      <td>3.0</td>\n",
       "      <td>2.0</td>\n",
       "      <td>4.0</td>\n",
       "      <td>2.0</td>\n",
       "      <td>2.0</td>\n",
       "      <td>2.0</td>\n",
       "      <td>2.0</td>\n",
       "      <td>1.0</td>\n",
       "      <td>3.0</td>\n",
       "      <td>3.0</td>\n",
       "      <td>3.0</td>\n",
       "    </tr>\n",
       "    <tr>\n",
       "      <th>1</th>\n",
       "      <td>1993.0</td>\n",
       "      <td>1.0</td>\n",
       "      <td>6.0</td>\n",
       "      <td>3.0</td>\n",
       "      <td>5.0</td>\n",
       "      <td>2.0</td>\n",
       "      <td>1.0</td>\n",
       "      <td>1.0</td>\n",
       "      <td>1.0</td>\n",
       "      <td>1.0</td>\n",
       "      <td>3.0</td>\n",
       "      <td>1.0</td>\n",
       "      <td>1.0</td>\n",
       "      <td>1.0</td>\n",
       "      <td>1.0</td>\n",
       "    </tr>\n",
       "    <tr>\n",
       "      <th>2</th>\n",
       "      <td>1980.0</td>\n",
       "      <td>3.0</td>\n",
       "      <td>6.0</td>\n",
       "      <td>2.0</td>\n",
       "      <td>2.0</td>\n",
       "      <td>2.0</td>\n",
       "      <td>7.0</td>\n",
       "      <td>2.0</td>\n",
       "      <td>2.0</td>\n",
       "      <td>2.0</td>\n",
       "      <td>2.0</td>\n",
       "      <td>2.0</td>\n",
       "      <td>2.0</td>\n",
       "      <td>2.0</td>\n",
       "      <td>2.0</td>\n",
       "    </tr>\n",
       "    <tr>\n",
       "      <th>3</th>\n",
       "      <td>1991.0</td>\n",
       "      <td>3.0</td>\n",
       "      <td>1.0</td>\n",
       "      <td>2.0</td>\n",
       "      <td>2.0</td>\n",
       "      <td>2.0</td>\n",
       "      <td>4.0</td>\n",
       "      <td>2.0</td>\n",
       "      <td>2.0</td>\n",
       "      <td>1.0</td>\n",
       "      <td>2.0</td>\n",
       "      <td>2.0</td>\n",
       "      <td>2.0</td>\n",
       "      <td>2.0</td>\n",
       "      <td>2.0</td>\n",
       "    </tr>\n",
       "    <tr>\n",
       "      <th>4</th>\n",
       "      <td>1985.0</td>\n",
       "      <td>3.0</td>\n",
       "      <td>6.0</td>\n",
       "      <td>1.0</td>\n",
       "      <td>2.0</td>\n",
       "      <td>2.0</td>\n",
       "      <td>7.0</td>\n",
       "      <td>1.0</td>\n",
       "      <td>2.0</td>\n",
       "      <td>2.0</td>\n",
       "      <td>99.0</td>\n",
       "      <td>1.0</td>\n",
       "      <td>1.0</td>\n",
       "      <td>1.0</td>\n",
       "      <td>1.0</td>\n",
       "    </tr>\n",
       "  </tbody>\n",
       "</table>\n",
       "</div>"
      ],
      "text/plain": [
       "      DG1  DG3  DG4  DG6  DG8a  DL0  DL1  MT1A  MT2  MT10   FL4  GN2  GN3  \\\n",
       "0  1979.0  8.0  1.0  2.0   3.0  2.0  4.0   2.0  2.0   2.0   2.0  1.0  3.0   \n",
       "1  1993.0  1.0  6.0  3.0   5.0  2.0  1.0   1.0  1.0   1.0   3.0  1.0  1.0   \n",
       "2  1980.0  3.0  6.0  2.0   2.0  2.0  7.0   2.0  2.0   2.0   2.0  2.0  2.0   \n",
       "3  1991.0  3.0  1.0  2.0   2.0  2.0  4.0   2.0  2.0   1.0   2.0  2.0  2.0   \n",
       "4  1985.0  3.0  6.0  1.0   2.0  2.0  7.0   1.0  2.0   2.0  99.0  1.0  1.0   \n",
       "\n",
       "   GN4  GN5  \n",
       "0  3.0  3.0  \n",
       "1  1.0  1.0  \n",
       "2  2.0  2.0  \n",
       "3  2.0  2.0  \n",
       "4  1.0  1.0  "
      ]
     },
     "execution_count": 4,
     "metadata": {},
     "output_type": "execute_result"
    }
   ],
   "source": [
    "test.head()"
   ]
  },
  {
   "cell_type": "code",
   "execution_count": 5,
   "metadata": {},
   "outputs": [
    {
     "name": "stdout",
     "output_type": "stream",
     "text": [
      "(18255, 16)\n",
      "(27285, 15)\n"
     ]
    }
   ],
   "source": [
    "print train.shape\n",
    "print test.shape"
   ]
  },
  {
   "cell_type": "markdown",
   "metadata": {},
   "source": [
    "# B. Hypothesis\n",
    "\n",
    "If a person owns a mobile phone (MT2) and makes financial decisions (GN4), then that person is a male."
   ]
  },
  {
   "cell_type": "code",
   "execution_count": 6,
   "metadata": {},
   "outputs": [
    {
     "name": "stdout",
     "output_type": "stream",
     "text": [
      "2.0    9333\n",
      "1.0    8922\n",
      "Name: MT2, dtype: int64\n"
     ]
    },
    {
     "data": {
      "text/plain": [
       "1.0     5218\n",
       "3.0     4793\n",
       "2.0     4679\n",
       "4.0     2302\n",
       "99.0    1177\n",
       "96.0      86\n",
       "Name: GN4, dtype: int64"
      ]
     },
     "execution_count": 6,
     "metadata": {},
     "output_type": "execute_result"
    }
   ],
   "source": [
    "print train['MT2'].value_counts()\n",
    "train['GN4'].value_counts()"
   ]
  },
  {
   "cell_type": "code",
   "execution_count": 7,
   "metadata": {},
   "outputs": [
    {
     "data": {
      "text/plain": [
       "1    5218\n",
       "3    4793\n",
       "2    4679\n",
       "4    3565\n",
       "Name: GN4, dtype: int64"
      ]
     },
     "execution_count": 7,
     "metadata": {},
     "output_type": "execute_result"
    }
   ],
   "source": [
    "# Coalesce 4, 96, 99 as 'other' category\n",
    "train['GN4'] = train['GN4'].map({1:1, 2:2, 3:3, 4:4, 96:4, 99:4})\n",
    "train['GN4'].value_counts()"
   ]
  },
  {
   "cell_type": "code",
   "execution_count": 8,
   "metadata": {},
   "outputs": [
    {
     "data": {
      "text/plain": [
       "0    24\n",
       "1    22\n",
       "2    22\n",
       "3    14\n",
       "4    21\n",
       "dtype: object"
      ]
     },
     "execution_count": 8,
     "metadata": {},
     "output_type": "execute_result"
    }
   ],
   "source": [
    "# Take cartesian product of all MT2 and GN4 values\n",
    "MT2_GN4 = train['MT2'].map(int).map(str)+train['GN4'].map(str)\n",
    "MT2_GN4[:5]"
   ]
  },
  {
   "cell_type": "code",
   "execution_count": 9,
   "metadata": {},
   "outputs": [
    {
     "data": {
      "text/plain": [
       "array([[ 0.,  0.,  0., ...,  0.,  0.,  1.],\n",
       "       [ 0.,  0.,  0., ...,  1.,  0.,  0.],\n",
       "       [ 0.,  0.,  0., ...,  1.,  0.,  0.],\n",
       "       ..., \n",
       "       [ 1.,  0.,  0., ...,  0.,  0.,  0.],\n",
       "       [ 1.,  0.,  0., ...,  0.,  0.,  0.],\n",
       "       [ 0.,  0.,  1., ...,  0.,  0.,  0.]])"
      ]
     },
     "execution_count": 9,
     "metadata": {},
     "output_type": "execute_result"
    }
   ],
   "source": [
    "# 1-hot encode the cartesian product values, MT2_GN4\n",
    "oneHot = OneHotEncoder()\n",
    "MT2_GN4 = oneHot.fit_transform(MT2_GN4.values.reshape(-1,1))\n",
    "MT2_GN4.toarray()"
   ]
  },
  {
   "cell_type": "markdown",
   "metadata": {},
   "source": [
    "## Linear Models\n",
    "\n",
    "* Fit and predict logistic regression on MT2 and GN4 after they have been rescaled."
   ]
  },
  {
   "cell_type": "code",
   "execution_count": 10,
   "metadata": {},
   "outputs": [],
   "source": [
    "scaler = MinMaxScaler()\n",
    "train[['MT2', 'GN4']] = scaler.fit_transform(train[['MT2', 'GN4']]) \n",
    "test[['MT2', 'GN4']] = scaler.fit_transform(test[['MT2', 'GN4']])"
   ]
  },
  {
   "cell_type": "code",
   "execution_count": 11,
   "metadata": {},
   "outputs": [],
   "source": [
    "xTrainVal, xTestVal, yTrainVal, yTestVal = train_test_split(train[['MT2', 'GN4']], train['is_female'], test_size=.5)"
   ]
  },
  {
   "cell_type": "code",
   "execution_count": 12,
   "metadata": {},
   "outputs": [
    {
     "data": {
      "text/plain": [
       "0.69065671188898337"
      ]
     },
     "execution_count": 12,
     "metadata": {},
     "output_type": "execute_result"
    }
   ],
   "source": [
    "lreg = LogisticRegression()\n",
    "lreg.fit(xTrainVal, yTrainVal)\n",
    "yPredVal = lreg.predict_proba(xTestVal)[:,1]\n",
    "roc_auc_score(yTestVal, yPredVal)"
   ]
  },
  {
   "cell_type": "markdown",
   "metadata": {},
   "source": [
    "* Fit and predict logistic regression and SVM on 1-hot encoded values of the cartesian product of MT2 and GN4."
   ]
  },
  {
   "cell_type": "code",
   "execution_count": 13,
   "metadata": {},
   "outputs": [],
   "source": [
    "xTrainVal, xTestVal, yTrainVal, yTestVal = train_test_split(MT2_GN4, train['is_female'], test_size=.5)"
   ]
  },
  {
   "cell_type": "code",
   "execution_count": 14,
   "metadata": {},
   "outputs": [
    {
     "data": {
      "text/plain": [
       "0.78220303103341382"
      ]
     },
     "execution_count": 14,
     "metadata": {},
     "output_type": "execute_result"
    }
   ],
   "source": [
    "lreg = LogisticRegression()\n",
    "lreg.fit(xTrainVal, yTrainVal)\n",
    "yPredVal = lreg.predict_proba(xTestVal)[:,1]\n",
    "roc_auc_score(yTestVal, yPredVal)"
   ]
  },
  {
   "cell_type": "code",
   "execution_count": 15,
   "metadata": {},
   "outputs": [
    {
     "data": {
      "text/plain": [
       "0.72551603406992271"
      ]
     },
     "execution_count": 15,
     "metadata": {},
     "output_type": "execute_result"
    }
   ],
   "source": [
    "svc = SVC(C=1, gamma=1, probability=True)\n",
    "svc.fit(xTrainVal, yTrainVal)\n",
    "yPredVal = svc.predict_proba(xTestVal)[:,1]\n",
    "roc_auc_score(yTestVal, yPredVal)"
   ]
  },
  {
   "cell_type": "code",
   "execution_count": null,
   "metadata": {},
   "outputs": [],
   "source": []
  }
 ],
 "metadata": {
  "kernelspec": {
   "display_name": "Python 2",
   "language": "python",
   "name": "python2"
  },
  "language_info": {
   "codemirror_mode": {
    "name": "ipython",
    "version": 2
   },
   "file_extension": ".py",
   "mimetype": "text/x-python",
   "name": "python",
   "nbconvert_exporter": "python",
   "pygments_lexer": "ipython2",
   "version": "2.7.14"
  }
 },
 "nbformat": 4,
 "nbformat_minor": 2
}
