{
 "cells": [
  {
   "cell_type": "code",
   "execution_count": 1,
   "metadata": {},
   "outputs": [],
   "source": [
    "import pandas as pd\n",
    "import numpy as np\n",
    "\n",
    "from sklearn.preprocessing import MinMaxScaler, OneHotEncoder\n",
    "from sklearn.model_selection import train_test_split, GridSearchCV\n",
    "from sklearn.linear_model import LogisticRegression\n",
    "from sklearn.svm import SVC\n",
    "from sklearn.ensemble import GradientBoostingClassifier\n",
    "from sklearn.metrics import roc_auc_score"
   ]
  },
  {
   "cell_type": "markdown",
   "metadata": {},
   "source": [
    "# A. Data\n",
    "\n",
    "Read data that were imputed for missing values and also were discovered as the top features from the Random Forest model:\n",
    "\n",
    "* DL0 -  Who is the main income earner in your household? \n",
    "* DG6 - How are you related to the household head? \n",
    "* DL1 - In the past 12 months, were you mainly...? (Employed, unemployed, student, etc.)\n",
    "* MT1A - Who decides on who should have a phone in your household?\n",
    "* FL4 - What or who do you depend on the most for financial advice?\n",
    "* DG3 - What is your marital status?\n",
    "* GN5 - Who decides what kind of financial services you can personally use? \n",
    "* GN3 - Who controls assets (i.e., savings, land, and livestock) in your household? \n",
    "* GN4 - Who decides what kind of financial services your household uses? \n",
    "* MT2 - Do you personally own a mobile phone? \n",
    "* MT10 - Do you personally have an active/working SIM card? \n",
    "* DG1 - What year were you born?\n",
    "* GN2 - Who in your household decides what purchases are made to meet daily household needs like food, clothing, and cleaning supplies? \n",
    "* DG4 - What is your highest level of education? \n",
    "* DG8a - How many adults do you have in the household? "
   ]
  },
  {
   "cell_type": "code",
   "execution_count": 2,
   "metadata": {
    "scrolled": true
   },
   "outputs": [],
   "source": [
    "train = pd.read_csv(\"../data/train-cleaned.csv\", low_memory=False, usecols=['DL0', 'GN4', 'MT2', 'is_female'])\n",
    "test = pd.read_csv(\"../data/test-cleaned.csv\", low_memory=False, usecols=['DL0', 'GN4', 'MT2'])"
   ]
  },
  {
   "cell_type": "code",
   "execution_count": 3,
   "metadata": {},
   "outputs": [
    {
     "data": {
      "text/html": [
       "<div>\n",
       "<style scoped>\n",
       "    .dataframe tbody tr th:only-of-type {\n",
       "        vertical-align: middle;\n",
       "    }\n",
       "\n",
       "    .dataframe tbody tr th {\n",
       "        vertical-align: top;\n",
       "    }\n",
       "\n",
       "    .dataframe thead th {\n",
       "        text-align: right;\n",
       "    }\n",
       "</style>\n",
       "<table border=\"1\" class=\"dataframe\">\n",
       "  <thead>\n",
       "    <tr style=\"text-align: right;\">\n",
       "      <th></th>\n",
       "      <th>is_female</th>\n",
       "      <th>DL0</th>\n",
       "      <th>MT2</th>\n",
       "      <th>GN4</th>\n",
       "    </tr>\n",
       "  </thead>\n",
       "  <tbody>\n",
       "    <tr>\n",
       "      <th>0</th>\n",
       "      <td>1.0</td>\n",
       "      <td>1.0</td>\n",
       "      <td>2.0</td>\n",
       "      <td>99.0</td>\n",
       "    </tr>\n",
       "    <tr>\n",
       "      <th>1</th>\n",
       "      <td>1.0</td>\n",
       "      <td>2.0</td>\n",
       "      <td>2.0</td>\n",
       "      <td>2.0</td>\n",
       "    </tr>\n",
       "    <tr>\n",
       "      <th>2</th>\n",
       "      <td>1.0</td>\n",
       "      <td>2.0</td>\n",
       "      <td>2.0</td>\n",
       "      <td>2.0</td>\n",
       "    </tr>\n",
       "    <tr>\n",
       "      <th>3</th>\n",
       "      <td>1.0</td>\n",
       "      <td>2.0</td>\n",
       "      <td>1.0</td>\n",
       "      <td>99.0</td>\n",
       "    </tr>\n",
       "    <tr>\n",
       "      <th>4</th>\n",
       "      <td>1.0</td>\n",
       "      <td>2.0</td>\n",
       "      <td>2.0</td>\n",
       "      <td>1.0</td>\n",
       "    </tr>\n",
       "  </tbody>\n",
       "</table>\n",
       "</div>"
      ],
      "text/plain": [
       "   is_female  DL0  MT2   GN4\n",
       "0        1.0  1.0  2.0  99.0\n",
       "1        1.0  2.0  2.0   2.0\n",
       "2        1.0  2.0  2.0   2.0\n",
       "3        1.0  2.0  1.0  99.0\n",
       "4        1.0  2.0  2.0   1.0"
      ]
     },
     "execution_count": 3,
     "metadata": {},
     "output_type": "execute_result"
    }
   ],
   "source": [
    "train.head()"
   ]
  },
  {
   "cell_type": "code",
   "execution_count": 4,
   "metadata": {},
   "outputs": [
    {
     "data": {
      "text/html": [
       "<div>\n",
       "<style scoped>\n",
       "    .dataframe tbody tr th:only-of-type {\n",
       "        vertical-align: middle;\n",
       "    }\n",
       "\n",
       "    .dataframe tbody tr th {\n",
       "        vertical-align: top;\n",
       "    }\n",
       "\n",
       "    .dataframe thead th {\n",
       "        text-align: right;\n",
       "    }\n",
       "</style>\n",
       "<table border=\"1\" class=\"dataframe\">\n",
       "  <thead>\n",
       "    <tr style=\"text-align: right;\">\n",
       "      <th></th>\n",
       "      <th>DL0</th>\n",
       "      <th>MT2</th>\n",
       "      <th>GN4</th>\n",
       "    </tr>\n",
       "  </thead>\n",
       "  <tbody>\n",
       "    <tr>\n",
       "      <th>0</th>\n",
       "      <td>2.0</td>\n",
       "      <td>2.0</td>\n",
       "      <td>3.0</td>\n",
       "    </tr>\n",
       "    <tr>\n",
       "      <th>1</th>\n",
       "      <td>2.0</td>\n",
       "      <td>1.0</td>\n",
       "      <td>1.0</td>\n",
       "    </tr>\n",
       "    <tr>\n",
       "      <th>2</th>\n",
       "      <td>2.0</td>\n",
       "      <td>2.0</td>\n",
       "      <td>2.0</td>\n",
       "    </tr>\n",
       "    <tr>\n",
       "      <th>3</th>\n",
       "      <td>2.0</td>\n",
       "      <td>2.0</td>\n",
       "      <td>2.0</td>\n",
       "    </tr>\n",
       "    <tr>\n",
       "      <th>4</th>\n",
       "      <td>2.0</td>\n",
       "      <td>2.0</td>\n",
       "      <td>1.0</td>\n",
       "    </tr>\n",
       "  </tbody>\n",
       "</table>\n",
       "</div>"
      ],
      "text/plain": [
       "   DL0  MT2  GN4\n",
       "0  2.0  2.0  3.0\n",
       "1  2.0  1.0  1.0\n",
       "2  2.0  2.0  2.0\n",
       "3  2.0  2.0  2.0\n",
       "4  2.0  2.0  1.0"
      ]
     },
     "execution_count": 4,
     "metadata": {},
     "output_type": "execute_result"
    }
   ],
   "source": [
    "test.head()"
   ]
  },
  {
   "cell_type": "code",
   "execution_count": 5,
   "metadata": {},
   "outputs": [
    {
     "name": "stdout",
     "output_type": "stream",
     "text": [
      "(18255, 4)\n",
      "(27285, 3)\n"
     ]
    }
   ],
   "source": [
    "print train.shape\n",
    "print test.shape"
   ]
  },
  {
   "cell_type": "markdown",
   "metadata": {},
   "source": [
    "# B. Hypothesis\n",
    "\n",
    "If a person owns a mobile phone (MT2) and makes financial decisions (GN4), then that person is a male. This person is also likely the household head."
   ]
  },
  {
   "cell_type": "code",
   "execution_count": 6,
   "metadata": {},
   "outputs": [
    {
     "name": "stdout",
     "output_type": "stream",
     "text": [
      "2.0    9333\n",
      "1.0    8922\n",
      "Name: MT2, dtype: int64\n"
     ]
    },
    {
     "data": {
      "text/plain": [
       "1.0     5218\n",
       "3.0     4793\n",
       "2.0     4679\n",
       "4.0     2302\n",
       "99.0    1177\n",
       "96.0      86\n",
       "Name: GN4, dtype: int64"
      ]
     },
     "execution_count": 6,
     "metadata": {},
     "output_type": "execute_result"
    }
   ],
   "source": [
    "print train['MT2'].value_counts()\n",
    "train['GN4'].value_counts()"
   ]
  },
  {
   "cell_type": "code",
   "execution_count": 7,
   "metadata": {},
   "outputs": [
    {
     "data": {
      "text/plain": [
       "1    5218\n",
       "3    4793\n",
       "2    4679\n",
       "4    3565\n",
       "Name: GN4, dtype: int64"
      ]
     },
     "execution_count": 7,
     "metadata": {},
     "output_type": "execute_result"
    }
   ],
   "source": [
    "# Coalesce 4, 96, 99 as 'other' category\n",
    "train['GN4'] = train['GN4'].map({1:1, 2:2, 3:3, 4:4, 96:4, 99:4})\n",
    "train['GN4'].value_counts()"
   ]
  },
  {
   "cell_type": "code",
   "execution_count": 8,
   "metadata": {},
   "outputs": [
    {
     "name": "stdout",
     "output_type": "stream",
     "text": [
      "0    24\n",
      "1    22\n",
      "2    22\n",
      "3    14\n",
      "4    21\n",
      "dtype: object\n"
     ]
    },
    {
     "data": {
      "text/plain": [
       "array(['24', '22', '14', '21', '13', '12', '11', '23'], dtype=object)"
      ]
     },
     "execution_count": 8,
     "metadata": {},
     "output_type": "execute_result"
    }
   ],
   "source": [
    "# Take string concat (cartesian product) of the values of MT2 and GN4\n",
    "MT2_GN4 = train['MT2'].map(int).map(str)+train['GN4'].map(str)\n",
    "print MT2_GN4[:5]\n",
    "MT2_GN4.unique()"
   ]
  },
  {
   "cell_type": "code",
   "execution_count": 9,
   "metadata": {},
   "outputs": [
    {
     "data": {
      "text/plain": [
       "array([[ 0.,  0.,  0., ...,  0.,  0.,  1.],\n",
       "       [ 0.,  0.,  0., ...,  1.,  0.,  0.],\n",
       "       [ 0.,  0.,  0., ...,  1.,  0.,  0.],\n",
       "       ..., \n",
       "       [ 1.,  0.,  0., ...,  0.,  0.,  0.],\n",
       "       [ 1.,  0.,  0., ...,  0.,  0.,  0.],\n",
       "       [ 0.,  0.,  1., ...,  0.,  0.,  0.]])"
      ]
     },
     "execution_count": 9,
     "metadata": {},
     "output_type": "execute_result"
    }
   ],
   "source": [
    "# 1-hot encode the cartesian product values of MT2 and GN4\n",
    "oneHot = OneHotEncoder()\n",
    "MT2_GN4 = oneHot.fit_transform(MT2_GN4.values.reshape(-1,1))\n",
    "MT2_GN4.toarray()"
   ]
  },
  {
   "cell_type": "code",
   "execution_count": 10,
   "metadata": {},
   "outputs": [
    {
     "data": {
      "text/plain": [
       "0    1\n",
       "1    0\n",
       "2    0\n",
       "3    0\n",
       "4    0\n",
       "Name: DL0, dtype: int64"
      ]
     },
     "execution_count": 10,
     "metadata": {},
     "output_type": "execute_result"
    }
   ],
   "source": [
    "# Label household head as 1\n",
    "train['DL0'] = train['DL0'].map({1:1, 2:0})\n",
    "train['DL0'].head()"
   ]
  },
  {
   "cell_type": "code",
   "execution_count": 11,
   "metadata": {},
   "outputs": [
    {
     "data": {
      "text/plain": [
       "array([[ 0.,  0.,  0., ...,  0.,  1.,  1.],\n",
       "       [ 0.,  0.,  0., ...,  0.,  0.,  0.],\n",
       "       [ 0.,  0.,  0., ...,  0.,  0.,  0.],\n",
       "       ..., \n",
       "       [ 1.,  0.,  0., ...,  0.,  0.,  1.],\n",
       "       [ 1.,  0.,  0., ...,  0.,  0.,  1.],\n",
       "       [ 0.,  0.,  1., ...,  0.,  0.,  0.]])"
      ]
     },
     "execution_count": 11,
     "metadata": {},
     "output_type": "execute_result"
    }
   ],
   "source": [
    "x = np.append(MT2_GN4.toarray(), train['DL0'].values.reshape(-1,1), axis=1)\n",
    "x"
   ]
  },
  {
   "cell_type": "markdown",
   "metadata": {},
   "source": [
    "## Linear Models\n",
    "\n",
    "* Fit and predict logistic regression on MT2 and GN4 after they have been rescaled."
   ]
  },
  {
   "cell_type": "code",
   "execution_count": 12,
   "metadata": {},
   "outputs": [],
   "source": [
    "# Rescale data from [0,1]\n",
    "scaler = MinMaxScaler()\n",
    "train[['MT2', 'GN4']] = scaler.fit_transform(train[['MT2', 'GN4']]) \n",
    "test[['MT2', 'GN4']] = scaler.fit_transform(test[['MT2', 'GN4']])"
   ]
  },
  {
   "cell_type": "code",
   "execution_count": 13,
   "metadata": {},
   "outputs": [],
   "source": [
    "xTrainVal, xTestVal, yTrainVal, yTestVal = train_test_split(train[['MT2', 'GN4']], train['is_female'], test_size=.5)"
   ]
  },
  {
   "cell_type": "code",
   "execution_count": 14,
   "metadata": {},
   "outputs": [
    {
     "data": {
      "text/plain": [
       "0.69046064957775011"
      ]
     },
     "execution_count": 14,
     "metadata": {},
     "output_type": "execute_result"
    }
   ],
   "source": [
    "# Logistic Regression\n",
    "lreg = LogisticRegression()\n",
    "lreg.fit(xTrainVal, yTrainVal)\n",
    "yPredVal = lreg.predict_proba(xTestVal)[:,1]\n",
    "roc_auc_score(yTestVal, yPredVal)"
   ]
  },
  {
   "cell_type": "markdown",
   "metadata": {},
   "source": [
    "* Fit and predict linear models on 1-hot encoded values of the cartesian product of MT2 and GN4."
   ]
  },
  {
   "cell_type": "code",
   "execution_count": 15,
   "metadata": {},
   "outputs": [],
   "source": [
    "xTrainVal, xTestVal, yTrainVal, yTestVal = train_test_split(x, train['is_female'], test_size=.5)"
   ]
  },
  {
   "cell_type": "code",
   "execution_count": 16,
   "metadata": {},
   "outputs": [
    {
     "data": {
      "text/plain": [
       "0.88937974147739318"
      ]
     },
     "execution_count": 16,
     "metadata": {},
     "output_type": "execute_result"
    }
   ],
   "source": [
    "# Logistic Regression\n",
    "lreg = LogisticRegression()\n",
    "lreg.fit(xTrainVal, yTrainVal)\n",
    "yPredVal = lreg.predict_proba(xTestVal)[:,1]\n",
    "roc_auc_score(yTestVal, yPredVal)"
   ]
  },
  {
   "cell_type": "code",
   "execution_count": 17,
   "metadata": {},
   "outputs": [
    {
     "data": {
      "text/plain": [
       "0.89450825070097684"
      ]
     },
     "execution_count": 17,
     "metadata": {},
     "output_type": "execute_result"
    }
   ],
   "source": [
    "# Gradient Boosting\n",
    "gb = GradientBoostingClassifier()\n",
    "gb.fit(xTrainVal, yTrainVal)\n",
    "yPredVal = gb.predict_proba(xTestVal)[:,1]\n",
    "roc_auc_score(yTestVal, yPredVal)"
   ]
  },
  {
   "cell_type": "code",
   "execution_count": 18,
   "metadata": {},
   "outputs": [
    {
     "data": {
      "text/plain": [
       "0.84963801339087708"
      ]
     },
     "execution_count": 18,
     "metadata": {},
     "output_type": "execute_result"
    }
   ],
   "source": [
    "# SVM\n",
    "svc = SVC(probability=True)\n",
    "svc.fit(xTrainVal, yTrainVal)\n",
    "yPredVal = svc.predict_proba(xTestVal)[:,1]\n",
    "roc_auc_score(yTestVal, yPredVal)"
   ]
  }
 ],
 "metadata": {
  "kernelspec": {
   "display_name": "Python 2",
   "language": "python",
   "name": "python2"
  },
  "language_info": {
   "codemirror_mode": {
    "name": "ipython",
    "version": 2
   },
   "file_extension": ".py",
   "mimetype": "text/x-python",
   "name": "python",
   "nbconvert_exporter": "python",
   "pygments_lexer": "ipython2",
   "version": "2.7.14"
  }
 },
 "nbformat": 4,
 "nbformat_minor": 2
}
