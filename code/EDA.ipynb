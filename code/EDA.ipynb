{
 "cells": [
  {
   "cell_type": "code",
   "execution_count": 1,
   "metadata": {},
   "outputs": [],
   "source": [
    "import pandas as pd"
   ]
  },
  {
   "cell_type": "code",
   "execution_count": 2,
   "metadata": {
    "scrolled": true
   },
   "outputs": [
    {
     "data": {
      "text/html": [
       "<div>\n",
       "<style scoped>\n",
       "    .dataframe tbody tr th:only-of-type {\n",
       "        vertical-align: middle;\n",
       "    }\n",
       "\n",
       "    .dataframe tbody tr th {\n",
       "        vertical-align: top;\n",
       "    }\n",
       "\n",
       "    .dataframe thead th {\n",
       "        text-align: right;\n",
       "    }\n",
       "</style>\n",
       "<table border=\"1\" class=\"dataframe\">\n",
       "  <thead>\n",
       "    <tr style=\"text-align: right;\">\n",
       "      <th></th>\n",
       "      <th>AA3</th>\n",
       "      <th>AA4</th>\n",
       "      <th>AA5</th>\n",
       "      <th>AA6</th>\n",
       "      <th>AA7</th>\n",
       "      <th>AA14</th>\n",
       "      <th>AA15</th>\n",
       "      <th>DG1</th>\n",
       "      <th>is_female</th>\n",
       "      <th>DG3</th>\n",
       "      <th>...</th>\n",
       "      <th>GN1</th>\n",
       "      <th>GN1_OTHERS</th>\n",
       "      <th>GN2</th>\n",
       "      <th>GN2_OTHERS</th>\n",
       "      <th>GN3</th>\n",
       "      <th>GN3_OTHERS</th>\n",
       "      <th>GN4</th>\n",
       "      <th>GN4_OTHERS</th>\n",
       "      <th>GN5</th>\n",
       "      <th>GN5_OTHERS</th>\n",
       "    </tr>\n",
       "  </thead>\n",
       "  <tbody>\n",
       "    <tr>\n",
       "      <th>0</th>\n",
       "      <td>3</td>\n",
       "      <td>32</td>\n",
       "      <td>3.0</td>\n",
       "      <td>NaN</td>\n",
       "      <td>323011</td>\n",
       "      <td>3854</td>\n",
       "      <td>481</td>\n",
       "      <td>1975</td>\n",
       "      <td>1</td>\n",
       "      <td>3</td>\n",
       "      <td>...</td>\n",
       "      <td>99.0</td>\n",
       "      <td>NaN</td>\n",
       "      <td>99</td>\n",
       "      <td>NaN</td>\n",
       "      <td>99</td>\n",
       "      <td>NaN</td>\n",
       "      <td>99</td>\n",
       "      <td>NaN</td>\n",
       "      <td>99</td>\n",
       "      <td>NaN</td>\n",
       "    </tr>\n",
       "    <tr>\n",
       "      <th>1</th>\n",
       "      <td>2</td>\n",
       "      <td>26</td>\n",
       "      <td>NaN</td>\n",
       "      <td>8.0</td>\n",
       "      <td>268131</td>\n",
       "      <td>2441</td>\n",
       "      <td>344</td>\n",
       "      <td>1981</td>\n",
       "      <td>1</td>\n",
       "      <td>8</td>\n",
       "      <td>...</td>\n",
       "      <td>NaN</td>\n",
       "      <td>NaN</td>\n",
       "      <td>1</td>\n",
       "      <td>NaN</td>\n",
       "      <td>2</td>\n",
       "      <td>NaN</td>\n",
       "      <td>2</td>\n",
       "      <td>NaN</td>\n",
       "      <td>2</td>\n",
       "      <td>NaN</td>\n",
       "    </tr>\n",
       "    <tr>\n",
       "      <th>2</th>\n",
       "      <td>1</td>\n",
       "      <td>16</td>\n",
       "      <td>NaN</td>\n",
       "      <td>7.0</td>\n",
       "      <td>167581</td>\n",
       "      <td>754</td>\n",
       "      <td>143</td>\n",
       "      <td>1995</td>\n",
       "      <td>1</td>\n",
       "      <td>3</td>\n",
       "      <td>...</td>\n",
       "      <td>1.0</td>\n",
       "      <td>NaN</td>\n",
       "      <td>2</td>\n",
       "      <td>NaN</td>\n",
       "      <td>2</td>\n",
       "      <td>NaN</td>\n",
       "      <td>2</td>\n",
       "      <td>NaN</td>\n",
       "      <td>2</td>\n",
       "      <td>NaN</td>\n",
       "    </tr>\n",
       "    <tr>\n",
       "      <th>3</th>\n",
       "      <td>4</td>\n",
       "      <td>44</td>\n",
       "      <td>5.0</td>\n",
       "      <td>NaN</td>\n",
       "      <td>445071</td>\n",
       "      <td>5705</td>\n",
       "      <td>604</td>\n",
       "      <td>1980</td>\n",
       "      <td>1</td>\n",
       "      <td>3</td>\n",
       "      <td>...</td>\n",
       "      <td>NaN</td>\n",
       "      <td>NaN</td>\n",
       "      <td>2</td>\n",
       "      <td>NaN</td>\n",
       "      <td>2</td>\n",
       "      <td>NaN</td>\n",
       "      <td>99</td>\n",
       "      <td>NaN</td>\n",
       "      <td>99</td>\n",
       "      <td>NaN</td>\n",
       "    </tr>\n",
       "    <tr>\n",
       "      <th>4</th>\n",
       "      <td>4</td>\n",
       "      <td>43</td>\n",
       "      <td>NaN</td>\n",
       "      <td>6.0</td>\n",
       "      <td>436161</td>\n",
       "      <td>5645</td>\n",
       "      <td>592</td>\n",
       "      <td>1958</td>\n",
       "      <td>1</td>\n",
       "      <td>3</td>\n",
       "      <td>...</td>\n",
       "      <td>NaN</td>\n",
       "      <td>NaN</td>\n",
       "      <td>1</td>\n",
       "      <td>NaN</td>\n",
       "      <td>1</td>\n",
       "      <td>NaN</td>\n",
       "      <td>1</td>\n",
       "      <td>NaN</td>\n",
       "      <td>1</td>\n",
       "      <td>NaN</td>\n",
       "    </tr>\n",
       "  </tbody>\n",
       "</table>\n",
       "<p>5 rows × 1234 columns</p>\n",
       "</div>"
      ],
      "text/plain": [
       "   AA3  AA4  AA5  AA6     AA7  AA14  AA15   DG1  is_female  DG3     ...      \\\n",
       "0    3   32  3.0  NaN  323011  3854   481  1975          1    3     ...       \n",
       "1    2   26  NaN  8.0  268131  2441   344  1981          1    8     ...       \n",
       "2    1   16  NaN  7.0  167581   754   143  1995          1    3     ...       \n",
       "3    4   44  5.0  NaN  445071  5705   604  1980          1    3     ...       \n",
       "4    4   43  NaN  6.0  436161  5645   592  1958          1    3     ...       \n",
       "\n",
       "    GN1 GN1_OTHERS  GN2  GN2_OTHERS  GN3  GN3_OTHERS  GN4  GN4_OTHERS  GN5  \\\n",
       "0  99.0        NaN   99         NaN   99         NaN   99         NaN   99   \n",
       "1   NaN        NaN    1         NaN    2         NaN    2         NaN    2   \n",
       "2   1.0        NaN    2         NaN    2         NaN    2         NaN    2   \n",
       "3   NaN        NaN    2         NaN    2         NaN   99         NaN   99   \n",
       "4   NaN        NaN    1         NaN    1         NaN    1         NaN    1   \n",
       "\n",
       "   GN5_OTHERS  \n",
       "0         NaN  \n",
       "1         NaN  \n",
       "2         NaN  \n",
       "3         NaN  \n",
       "4         NaN  \n",
       "\n",
       "[5 rows x 1234 columns]"
      ]
     },
     "execution_count": 2,
     "metadata": {},
     "output_type": "execute_result"
    }
   ],
   "source": [
    "# Read train data\n",
    "train = pd.read_csv(\"../data/train.csv\", low_memory=False)\n",
    "train.drop([\"train_id\"], axis=1, inplace=True)\n",
    "train.head()"
   ]
  },
  {
   "cell_type": "code",
   "execution_count": 3,
   "metadata": {},
   "outputs": [
    {
     "data": {
      "text/plain": [
       "(18255, 1234)"
      ]
     },
     "execution_count": 3,
     "metadata": {},
     "output_type": "execute_result"
    }
   ],
   "source": [
    "# Train data dimensions\n",
    "train.shape"
   ]
  },
  {
   "cell_type": "code",
   "execution_count": 4,
   "metadata": {},
   "outputs": [
    {
     "data": {
      "text/html": [
       "<div>\n",
       "<style scoped>\n",
       "    .dataframe tbody tr th:only-of-type {\n",
       "        vertical-align: middle;\n",
       "    }\n",
       "\n",
       "    .dataframe tbody tr th {\n",
       "        vertical-align: top;\n",
       "    }\n",
       "\n",
       "    .dataframe thead th {\n",
       "        text-align: right;\n",
       "    }\n",
       "</style>\n",
       "<table border=\"1\" class=\"dataframe\">\n",
       "  <thead>\n",
       "    <tr style=\"text-align: right;\">\n",
       "      <th></th>\n",
       "      <th>AA3</th>\n",
       "      <th>AA4</th>\n",
       "      <th>AA5</th>\n",
       "      <th>AA6</th>\n",
       "      <th>AA7</th>\n",
       "      <th>AA14</th>\n",
       "      <th>AA15</th>\n",
       "      <th>DG1</th>\n",
       "      <th>DG3</th>\n",
       "      <th>DG3A</th>\n",
       "      <th>...</th>\n",
       "      <th>GN1</th>\n",
       "      <th>GN1_OTHERS</th>\n",
       "      <th>GN2</th>\n",
       "      <th>GN2_OTHERS</th>\n",
       "      <th>GN3</th>\n",
       "      <th>GN3_OTHERS</th>\n",
       "      <th>GN4</th>\n",
       "      <th>GN4_OTHERS</th>\n",
       "      <th>GN5</th>\n",
       "      <th>GN5_OTHERS</th>\n",
       "    </tr>\n",
       "  </thead>\n",
       "  <tbody>\n",
       "    <tr>\n",
       "      <th>0</th>\n",
       "      <td>4</td>\n",
       "      <td>41</td>\n",
       "      <td>NaN</td>\n",
       "      <td>7.0</td>\n",
       "      <td>417211</td>\n",
       "      <td>4479</td>\n",
       "      <td>535</td>\n",
       "      <td>1979</td>\n",
       "      <td>8</td>\n",
       "      <td>1</td>\n",
       "      <td>...</td>\n",
       "      <td>2.0</td>\n",
       "      <td>NaN</td>\n",
       "      <td>1</td>\n",
       "      <td>NaN</td>\n",
       "      <td>3</td>\n",
       "      <td>NaN</td>\n",
       "      <td>3</td>\n",
       "      <td>NaN</td>\n",
       "      <td>3</td>\n",
       "      <td>NaN</td>\n",
       "    </tr>\n",
       "    <tr>\n",
       "      <th>1</th>\n",
       "      <td>3</td>\n",
       "      <td>32</td>\n",
       "      <td>2.0</td>\n",
       "      <td>NaN</td>\n",
       "      <td>322011</td>\n",
       "      <td>3803</td>\n",
       "      <td>476</td>\n",
       "      <td>1993</td>\n",
       "      <td>1</td>\n",
       "      <td>4</td>\n",
       "      <td>...</td>\n",
       "      <td>1.0</td>\n",
       "      <td>NaN</td>\n",
       "      <td>1</td>\n",
       "      <td>NaN</td>\n",
       "      <td>1</td>\n",
       "      <td>NaN</td>\n",
       "      <td>1</td>\n",
       "      <td>NaN</td>\n",
       "      <td>1</td>\n",
       "      <td>NaN</td>\n",
       "    </tr>\n",
       "    <tr>\n",
       "      <th>2</th>\n",
       "      <td>3</td>\n",
       "      <td>36</td>\n",
       "      <td>5.0</td>\n",
       "      <td>NaN</td>\n",
       "      <td>365011</td>\n",
       "      <td>5610</td>\n",
       "      <td>585</td>\n",
       "      <td>1980</td>\n",
       "      <td>3</td>\n",
       "      <td>99</td>\n",
       "      <td>...</td>\n",
       "      <td>2.0</td>\n",
       "      <td>NaN</td>\n",
       "      <td>2</td>\n",
       "      <td>NaN</td>\n",
       "      <td>2</td>\n",
       "      <td>NaN</td>\n",
       "      <td>2</td>\n",
       "      <td>NaN</td>\n",
       "      <td>2</td>\n",
       "      <td>NaN</td>\n",
       "    </tr>\n",
       "    <tr>\n",
       "      <th>3</th>\n",
       "      <td>2</td>\n",
       "      <td>24</td>\n",
       "      <td>NaN</td>\n",
       "      <td>7.0</td>\n",
       "      <td>247061</td>\n",
       "      <td>2550</td>\n",
       "      <td>350</td>\n",
       "      <td>1991</td>\n",
       "      <td>3</td>\n",
       "      <td>2</td>\n",
       "      <td>...</td>\n",
       "      <td>2.0</td>\n",
       "      <td>NaN</td>\n",
       "      <td>2</td>\n",
       "      <td>NaN</td>\n",
       "      <td>2</td>\n",
       "      <td>NaN</td>\n",
       "      <td>2</td>\n",
       "      <td>NaN</td>\n",
       "      <td>2</td>\n",
       "      <td>NaN</td>\n",
       "    </tr>\n",
       "    <tr>\n",
       "      <th>4</th>\n",
       "      <td>3</td>\n",
       "      <td>35</td>\n",
       "      <td>NaN</td>\n",
       "      <td>8.0</td>\n",
       "      <td>358071</td>\n",
       "      <td>3233</td>\n",
       "      <td>400</td>\n",
       "      <td>1985</td>\n",
       "      <td>3</td>\n",
       "      <td>4</td>\n",
       "      <td>...</td>\n",
       "      <td>1.0</td>\n",
       "      <td>NaN</td>\n",
       "      <td>1</td>\n",
       "      <td>NaN</td>\n",
       "      <td>1</td>\n",
       "      <td>NaN</td>\n",
       "      <td>1</td>\n",
       "      <td>NaN</td>\n",
       "      <td>1</td>\n",
       "      <td>NaN</td>\n",
       "    </tr>\n",
       "  </tbody>\n",
       "</table>\n",
       "<p>5 rows × 1233 columns</p>\n",
       "</div>"
      ],
      "text/plain": [
       "   AA3  AA4  AA5  AA6     AA7  AA14  AA15   DG1  DG3  DG3A     ...      GN1  \\\n",
       "0    4   41  NaN  7.0  417211  4479   535  1979    8     1     ...      2.0   \n",
       "1    3   32  2.0  NaN  322011  3803   476  1993    1     4     ...      1.0   \n",
       "2    3   36  5.0  NaN  365011  5610   585  1980    3    99     ...      2.0   \n",
       "3    2   24  NaN  7.0  247061  2550   350  1991    3     2     ...      2.0   \n",
       "4    3   35  NaN  8.0  358071  3233   400  1985    3     4     ...      1.0   \n",
       "\n",
       "   GN1_OTHERS GN2  GN2_OTHERS  GN3  GN3_OTHERS  GN4  GN4_OTHERS  GN5  \\\n",
       "0         NaN   1         NaN    3         NaN    3         NaN    3   \n",
       "1         NaN   1         NaN    1         NaN    1         NaN    1   \n",
       "2         NaN   2         NaN    2         NaN    2         NaN    2   \n",
       "3         NaN   2         NaN    2         NaN    2         NaN    2   \n",
       "4         NaN   1         NaN    1         NaN    1         NaN    1   \n",
       "\n",
       "   GN5_OTHERS  \n",
       "0         NaN  \n",
       "1         NaN  \n",
       "2         NaN  \n",
       "3         NaN  \n",
       "4         NaN  \n",
       "\n",
       "[5 rows x 1233 columns]"
      ]
     },
     "execution_count": 4,
     "metadata": {},
     "output_type": "execute_result"
    }
   ],
   "source": [
    "test = pd.read_csv(\"../data/test.csv\", low_memory=False)\n",
    "test.drop([\"test_id\"], axis=1, inplace=True)\n",
    "test.head()"
   ]
  },
  {
   "cell_type": "code",
   "execution_count": 5,
   "metadata": {},
   "outputs": [
    {
     "data": {
      "text/plain": [
       "(27285, 1233)"
      ]
     },
     "execution_count": 5,
     "metadata": {},
     "output_type": "execute_result"
    }
   ],
   "source": [
    "test.shape"
   ]
  },
  {
   "cell_type": "code",
   "execution_count": 6,
   "metadata": {},
   "outputs": [
    {
     "data": {
      "text/plain": [
       "1113"
      ]
     },
     "execution_count": 6,
     "metadata": {},
     "output_type": "execute_result"
    }
   ],
   "source": [
    "# Variable names listed in the data dictionary\n",
    "var = list(pd.read_excel(\"../data/data-dictionary.xlsx\", \n",
    "                         sheet_name=\"Codebook\")[\"Column Name\"]) + \\\n",
    "      list(pd.read_excel(\"../data/data-dictionary.xlsx\", \n",
    "                         sheet_name=\"AA Locations\", \n",
    "                         header=None)[0].dropna())\n",
    "len(var)"
   ]
  },
  {
   "cell_type": "code",
   "execution_count": 7,
   "metadata": {
    "scrolled": false
   },
   "outputs": [
    {
     "data": {
      "text/plain": [
       "155"
      ]
     },
     "execution_count": 7,
     "metadata": {},
     "output_type": "execute_result"
    }
   ],
   "source": [
    "# Number of variables present in train, but NOT present in dictionary (A-B)\n",
    "len(set(train.columns) - set(var))"
   ]
  },
  {
   "cell_type": "code",
   "execution_count": 8,
   "metadata": {},
   "outputs": [
    {
     "data": {
      "text/plain": [
       "set()"
      ]
     },
     "execution_count": 8,
     "metadata": {},
     "output_type": "execute_result"
    }
   ],
   "source": [
    "# Variables present in test, but NOT present in train (A-B)\n",
    "set(test.columns) - set(train.columns)"
   ]
  },
  {
   "cell_type": "code",
   "execution_count": 9,
   "metadata": {},
   "outputs": [
    {
     "data": {
      "text/plain": [
       "{'is_female'}"
      ]
     },
     "execution_count": 9,
     "metadata": {},
     "output_type": "execute_result"
    }
   ],
   "source": [
    "# Variables present in train, but NOT present in test (A-B)\n",
    "set(train.columns) - set(test.columns)"
   ]
  },
  {
   "cell_type": "code",
   "execution_count": 10,
   "metadata": {},
   "outputs": [
    {
     "data": {
      "text/plain": [
       "30"
      ]
     },
     "execution_count": 10,
     "metadata": {},
     "output_type": "execute_result"
    }
   ],
   "source": [
    "# Number of variables present in dictionary, but NOT present in train (A-B)\n",
    "len(set(var) - set(train.columns))"
   ]
  },
  {
   "cell_type": "code",
   "execution_count": 11,
   "metadata": {
    "scrolled": false
   },
   "outputs": [
    {
     "data": {
      "text/plain": [
       "Index([u'DG4_OTHERS', u'G2P2_2_OTHERS', u'G2P2_10_OTHERS', u'G2P2_12_OTHERS',\n",
       "       u'G2P2_15_OTHERS', u'MT12_99', u'MT13_4_OTHERS', u'MT13_96_OTHERS',\n",
       "       u'MT14_3_OTHERS', u'MT14_5_OTHERS', u'MT14_7_OTHERS', u'MM3_15',\n",
       "       u'MM3_16', u'MM4_16', u'MM5_4', u'MM5_5', u'MM5_15', u'MM5_16',\n",
       "       u'MM5A_4', u'MM5A_5', u'MM5A_15', u'MM5A_16', u'MM6_16', u'MM7_4',\n",
       "       u'MM7_5', u'MM7_15', u'MM7_16', u'MM8_15', u'MM8_16', u'MM11_4',\n",
       "       u'MM11_5', u'MM11_5_OTHERS', u'MM11_11_OTHERS', u'MM11_15', u'MM11_16',\n",
       "       u'MM15_OTHERS', u'MM17_13', u'MM17_15', u'MM17_17', u'MM17_19',\n",
       "       u'MM17_22', u'MM17_96', u'MM17A', u'MM38_OTHERS', u'MM40_14',\n",
       "       u'MM40_96', u'MMP4_7', u'MMP4_8', u'MMP4_96', u'FB28_3_OTHERS'],\n",
       "      dtype='object')"
      ]
     },
     "execution_count": 11,
     "metadata": {},
     "output_type": "execute_result"
    }
   ],
   "source": [
    "# Empty columns with no data\n",
    "emptyCol = train.columns[train.isnull().sum()==len(train)]\n",
    "emptyCol"
   ]
  },
  {
   "cell_type": "code",
   "execution_count": 12,
   "metadata": {},
   "outputs": [
    {
     "name": "stdout",
     "output_type": "stream",
     "text": [
      "(18255, 1184)\n",
      "(27285, 1183)\n"
     ]
    }
   ],
   "source": [
    "# Remove empty columns from train and test data\n",
    "train.drop(emptyCol, axis=1, inplace=True)\n",
    "test.drop(emptyCol, axis=1, inplace=True)\n",
    "print train.shape\n",
    "print test.shape"
   ]
  },
  {
   "cell_type": "code",
   "execution_count": 13,
   "metadata": {},
   "outputs": [
    {
     "data": {
      "text/plain": [
       "Index([u'AA5', u'DG3A_OTHERS', u'DG9b', u'DG9c', u'DG10b', u'DG10c', u'DG11b',\n",
       "       u'DG11c', u'DG12B_1', u'DG12B_2',\n",
       "       ...\n",
       "       u'FB28_1_OTHERS', u'FB28_2_OTHERS', u'FB28_4_OTHERS', u'FB28_96_OTHERS',\n",
       "       u'FB29_OTHERS', u'GN1_OTHERS', u'GN2_OTHERS', u'GN3_OTHERS',\n",
       "       u'GN4_OTHERS', u'GN5_OTHERS'],\n",
       "      dtype='object', length=823)"
      ]
     },
     "execution_count": 13,
     "metadata": {},
     "output_type": "execute_result"
    }
   ],
   "source": [
    "# Columns where atleast 50% of the data are missing\n",
    "sparseCol = train.columns[train.isnull().sum()>=len(train)/2.]\n",
    "sparseCol"
   ]
  },
  {
   "cell_type": "code",
   "execution_count": 14,
   "metadata": {},
   "outputs": [
    {
     "data": {
      "text/plain": [
       "array([12602, 18205, 10018, 11451, 11678, 12862, 12002, 13158, 14691,\n",
       "       18246, 17508, 18222, 17974,  9257, 18153, 18021, 17947, 10985,\n",
       "       15815, 18238, 18144, 14264, 14628, 18249, 15645, 18182, 17704,\n",
       "       18232, 18241, 18179, 18235, 18208, 17524, 17965, 17860, 18212,\n",
       "       18011, 18200, 18001, 18251, 18227, 18254, 18253, 18250,  9333,\n",
       "       18244, 18230, 15095, 18240, 12082, 18234, 11243, 18233, 17672,\n",
       "       15596, 17805, 18046, 18218, 18245, 16572, 18247, 18003, 16681,\n",
       "       18055, 18252, 17572, 11285, 14806, 18199, 18135, 11496, 18248,\n",
       "       17876, 18229, 11310,  9987, 18048, 18101, 18155, 18215, 18112,\n",
       "       18133, 18049, 18217, 18124, 18116, 18170, 18242, 18209, 18183,\n",
       "       17788, 17890, 17352, 18169, 18187, 18054, 18198, 18143, 18211,\n",
       "       18194, 18125, 18180, 17752, 18157, 18239, 18223, 18220, 18216,\n",
       "       18236, 18128, 18181, 17182, 18243, 17183, 18204, 18190, 18172,\n",
       "       18191, 18219, 18201, 18224, 18226, 18207, 18210, 18214, 18031,\n",
       "       18225, 18062, 17959, 18015, 17759, 17811, 17381, 17467, 17186,\n",
       "       18213, 17616, 14574, 16325, 16366, 16358, 15388, 16897, 18114,\n",
       "       18126, 13831, 18195, 13723, 18237, 16761, 17997, 18163, 17674,\n",
       "       16691, 15474, 18158, 18192, 17059, 12714, 18160, 18024, 17975,\n",
       "       17792, 17686, 17064,  9917, 18228, 17910, 16813, 17893, 18085,\n",
       "       18189, 18196, 18177])"
      ]
     },
     "execution_count": 14,
     "metadata": {},
     "output_type": "execute_result"
    }
   ],
   "source": [
    "# NaN counts for columns with atleast 50% missing data\n",
    "train[sparseCol].isnull().sum().unique()"
   ]
  },
  {
   "cell_type": "code",
   "execution_count": 15,
   "metadata": {},
   "outputs": [
    {
     "name": "stdout",
     "output_type": "stream",
     "text": [
      "(18255, 361)\n",
      "(27285, 360)\n"
     ]
    }
   ],
   "source": [
    "# Remove columns with atleast 50% missing data from train and test data\n",
    "train.drop(sparseCol, axis=1, inplace=True)\n",
    "test.drop(sparseCol, axis=1, inplace=True)\n",
    "print train.shape\n",
    "print test.shape"
   ]
  },
  {
   "cell_type": "code",
   "execution_count": 16,
   "metadata": {},
   "outputs": [
    {
     "data": {
      "text/plain": [
       "{'DL14', 'DL4_96', 'DL4_99', 'LN2_RIndLngBEOth', 'LN2_WIndLngBEOth'}"
      ]
     },
     "execution_count": 16,
     "metadata": {},
     "output_type": "execute_result"
    }
   ],
   "source": [
    "# Variables present in train, but NOT present in data dictionary (A-B)\n",
    "set(train.columns) - set(var)"
   ]
  },
  {
   "cell_type": "markdown",
   "metadata": {},
   "source": [
    "According to the data dictionary:  \n",
    "DL4_96 = DL4_24,  \n",
    "DL4_99 = DL4_25,   \n",
    "LN2_RIndLngBEOth = LN2_3 Reading specification,   \n",
    "LN2_WIndLngBEOth = LN2_4 Writing specification,  \n",
    "DL14 description is unknown\n",
    "\n",
    "Let's rename columns DL4_96 and DL4_99 in train and test data to match with the dictionary labels."
   ]
  },
  {
   "cell_type": "code",
   "execution_count": 17,
   "metadata": {},
   "outputs": [],
   "source": [
    "# Rename columns in train and test data to match with dictionary labels\n",
    "train.rename(columns={\"DL4_96\": \"DL4_24\", \"DL4_99\": \"DL4_25\"}, inplace=True)\n",
    "test.rename(columns={\"DL4_96\": \"DL4_24\", \"DL4_99\": \"DL4_25\"}, inplace=True)"
   ]
  },
  {
   "cell_type": "code",
   "execution_count": 18,
   "metadata": {},
   "outputs": [
    {
     "data": {
      "text/plain": [
       "Index([u'AA6', u'DG9a', u'DL5', u'MT1A', u'MT7', u'MT15', u'MT17_1', u'MT17_2',\n",
       "       u'MT17_3', u'MT17_4',\n",
       "       ...\n",
       "       u'FB19B_2', u'FB19B_3', u'FB19B_4', u'FB19B_5', u'FB19B_96', u'FB20',\n",
       "       u'FB24', u'LN2_RIndLngBEOth', u'LN2_WIndLngBEOth', u'GN1'],\n",
       "      dtype='object', length=123)"
      ]
     },
     "execution_count": 18,
     "metadata": {},
     "output_type": "execute_result"
    }
   ],
   "source": [
    "# 123 columns have NaN in train data\n",
    "missColTr = train.columns[train.isnull().sum()>0]\n",
    "missColTr"
   ]
  },
  {
   "cell_type": "code",
   "execution_count": 19,
   "metadata": {},
   "outputs": [
    {
     "data": {
      "text/plain": [
       "array([5653,  232, 6806,  757, 8922, 7012, 6173, 6759, 6380, 7839, 8670,\n",
       "         86,  425,   37,   11,    6,   47,   21,   10,    7,   34,   20,\n",
       "        159,   16, 2129, 5293, 7319, 7397, 4049, 6580,  769,  444,  297,\n",
       "        247,  263,   63, 1494, 5541, 6914, 6911, 4025])"
      ]
     },
     "execution_count": 19,
     "metadata": {},
     "output_type": "execute_result"
    }
   ],
   "source": [
    "# Counts of NaN in train data\n",
    "train[missColTr].isnull().sum().unique()"
   ]
  },
  {
   "cell_type": "code",
   "execution_count": 20,
   "metadata": {},
   "outputs": [
    {
     "data": {
      "text/plain": [
       "Index([u'AA6', u'DG9a', u'DL5', u'MT1A', u'MT7', u'MT15', u'MT17_1', u'MT17_2',\n",
       "       u'MT17_3', u'MT17_4',\n",
       "       ...\n",
       "       u'FB19B_2', u'FB19B_3', u'FB19B_4', u'FB19B_5', u'FB19B_96', u'FB20',\n",
       "       u'FB24', u'LN2_RIndLngBEOth', u'LN2_WIndLngBEOth', u'GN1'],\n",
       "      dtype='object', length=123)"
      ]
     },
     "execution_count": 20,
     "metadata": {},
     "output_type": "execute_result"
    }
   ],
   "source": [
    "# 123 columns have NaN in test data\n",
    "missColTe = test.columns[test.isnull().sum()>0]\n",
    "missColTe"
   ]
  },
  {
   "cell_type": "code",
   "execution_count": 21,
   "metadata": {},
   "outputs": [
    {
     "data": {
      "text/plain": [
       "array([ 8459,   386, 10207,  1158, 13479, 10590,  8976, 10134,  9622,\n",
       "       11736, 12977,   141,   658,    35,     5,     8,    93,    32,\n",
       "          51,    13,    15,    68,    31,   272,    25,  3169,  7846,\n",
       "       10911, 10946,  5999,  9869,  1127,   716,   462,   374,   381,\n",
       "          74,  2227,  8281, 10204, 10224,  6143])"
      ]
     },
     "execution_count": 21,
     "metadata": {},
     "output_type": "execute_result"
    }
   ],
   "source": [
    "# Counts of NaN in test data\n",
    "test[missColTe].isnull().sum().unique()"
   ]
  },
  {
   "cell_type": "code",
   "execution_count": 22,
   "metadata": {},
   "outputs": [
    {
     "data": {
      "text/plain": [
       "set()"
      ]
     },
     "execution_count": 22,
     "metadata": {},
     "output_type": "execute_result"
    }
   ],
   "source": [
    "# 123 columns with NaN are the same in train and test data\n",
    "set(missColTr).symmetric_difference(set(missColTe))"
   ]
  },
  {
   "cell_type": "code",
   "execution_count": null,
   "metadata": {},
   "outputs": [],
   "source": []
  }
 ],
 "metadata": {
  "kernelspec": {
   "display_name": "Python 2",
   "language": "python",
   "name": "python2"
  },
  "language_info": {
   "codemirror_mode": {
    "name": "ipython",
    "version": 2
   },
   "file_extension": ".py",
   "mimetype": "text/x-python",
   "name": "python",
   "nbconvert_exporter": "python",
   "pygments_lexer": "ipython2",
   "version": "2.7.14"
  }
 },
 "nbformat": 4,
 "nbformat_minor": 2
}
